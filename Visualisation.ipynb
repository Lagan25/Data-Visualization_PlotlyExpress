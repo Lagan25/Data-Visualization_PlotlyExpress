{
  "nbformat": 4,
  "nbformat_minor": 0,
  "metadata": {
    "kernelspec": {
      "display_name": "Python 3",
      "language": "python",
      "name": "python3"
    },
    "language_info": {
      "codemirror_mode": {
        "name": "ipython",
        "version": 3
      },
      "file_extension": ".py",
      "mimetype": "text/x-python",
      "name": "python",
      "nbconvert_exporter": "python",
      "pygments_lexer": "ipython3",
      "version": "3.7.4"
    },
    "colab": {
      "name": "Visualisation.ipynb",
      "provenance": []
    }
  },
  "cells": [
    {
      "cell_type": "markdown",
      "metadata": {
        "id": "YWYAPGpYYCN3"
      },
      "source": [
        "## Explore the Gapminder Dataset with Plotly Express"
      ]
    },
    {
      "cell_type": "code",
      "metadata": {
        "colab": {
          "base_uri": "https://localhost:8080/",
          "height": 17
        },
        "id": "67g-sagUYCN5",
        "outputId": "a1792142-491b-41ee-b3fa-1ac2eb67dbba"
      },
      "source": [
        "import plotly.offline as py\n",
        "py.init_notebook_mode(connected=True)\n",
        "import plotly.graph_objs as go\n",
        "import pandas as pd\n",
        "import numpy as np"
      ],
      "execution_count": 1,
      "outputs": [
        {
          "output_type": "display_data",
          "data": {
            "text/html": [
              "        <script type=\"text/javascript\">\n",
              "        window.PlotlyConfig = {MathJaxConfig: 'local'};\n",
              "        if (window.MathJax) {MathJax.Hub.Config({SVG: {font: \"STIX-Web\"}});}\n",
              "        if (typeof require !== 'undefined') {\n",
              "        require.undef(\"plotly\");\n",
              "        requirejs.config({\n",
              "            paths: {\n",
              "                'plotly': ['https://cdn.plot.ly/plotly-latest.min']\n",
              "            }\n",
              "        });\n",
              "        require(['plotly'], function(Plotly) {\n",
              "            window._Plotly = Plotly;\n",
              "        });\n",
              "        }\n",
              "        </script>\n",
              "        "
            ]
          },
          "metadata": {
            "tags": []
          }
        }
      ]
    },
    {
      "cell_type": "code",
      "metadata": {
        "id": "Ccfj1OT2YCN6"
      },
      "source": [
        "from plotly.figure_factory import create_table\n",
        "import plotly.express as px\n",
        "\n",
        "gapminder = px.data.gapminder()\n",
        "\n",
        "table = create_table(gapminder.head(10))\n",
        "py.iplot(table)"
      ],
      "execution_count": null,
      "outputs": []
    },
    {
      "cell_type": "code",
      "metadata": {
        "colab": {
          "base_uri": "https://localhost:8080/"
        },
        "id": "oeAVslGpYCN7",
        "outputId": "b26a23c2-5699-45cd-c3a7-76d51066df81"
      },
      "source": [
        "type(gapminder)"
      ],
      "execution_count": 3,
      "outputs": [
        {
          "output_type": "execute_result",
          "data": {
            "text/plain": [
              "pandas.core.frame.DataFrame"
            ]
          },
          "metadata": {
            "tags": []
          },
          "execution_count": 3
        }
      ]
    },
    {
      "cell_type": "code",
      "metadata": {
        "id": "7pB9vS_jYCN8"
      },
      "source": [
        "data_canada = px.data.gapminder().query(\"country == 'Canada'\")\n",
        "fig = px.bar(data_canada, x='year', y='pop', height=400)\n",
        "fig.show()"
      ],
      "execution_count": null,
      "outputs": []
    },
    {
      "cell_type": "code",
      "metadata": {
        "id": "YlSWcsSuYCN9"
      },
      "source": [
        "fig = px.bar(data_canada, x='year', y='pop',\n",
        "             hover_data=['lifeExp', 'gdpPercap'], color='lifeExp',\n",
        "             labels={'pop':'population of Canada'}, height=400)\n",
        "fig.show()"
      ],
      "execution_count": null,
      "outputs": []
    },
    {
      "cell_type": "code",
      "metadata": {
        "id": "nPPvLXDWYCN-"
      },
      "source": [
        "gapminder2007 = gapminder.query(\"year == 2007\")\n",
        "\n",
        "px.scatter(gapminder2007, x=\"gdpPercap\", y=\"lifeExp\")"
      ],
      "execution_count": null,
      "outputs": []
    },
    {
      "cell_type": "code",
      "metadata": {
        "id": "GtO_d6woYCN-"
      },
      "source": [
        "px.scatter(gapminder2007, x=\"gdpPercap\", y=\"lifeExp\", color=\"continent\")"
      ],
      "execution_count": null,
      "outputs": []
    },
    {
      "cell_type": "markdown",
      "metadata": {
        "id": "Mfeil8ejYCN_"
      },
      "source": [
        "### Task 4: Customize Interactive Bubble Charts\n"
      ]
    },
    {
      "cell_type": "code",
      "metadata": {
        "id": "FTiTc8C2YCN_"
      },
      "source": [
        "px.scatter(gapminder2007, x=\"gdpPercap\", y=\"lifeExp\", color=\"continent\", size=\"pop\", size_max=60)"
      ],
      "execution_count": null,
      "outputs": []
    },
    {
      "cell_type": "code",
      "metadata": {
        "id": "fE04j_JdYCN_"
      },
      "source": [
        "px.scatter(gapminder2007, x=\"gdpPercap\", y=\"lifeExp\", color=\"continent\", size=\"pop\", size_max=60, hover_name=\"country\")"
      ],
      "execution_count": null,
      "outputs": []
    },
    {
      "cell_type": "markdown",
      "metadata": {
        "id": "xgAn-gEdYCOA"
      },
      "source": [
        " "
      ]
    },
    {
      "cell_type": "markdown",
      "metadata": {
        "id": "QxaRHxOhYCOA"
      },
      "source": [
        "### Task 5: Create Interactive Animations and Facet Plots \n"
      ]
    },
    {
      "cell_type": "code",
      "metadata": {
        "scrolled": true,
        "id": "uItM2XGZYCOA"
      },
      "source": [
        "px.scatter(gapminder2007, x=\"gdpPercap\", y=\"lifeExp\", color=\"continent\", size=\"pop\", size_max=60,\n",
        "          hover_name=\"country\", facet_col=\"continent\", log_x=True)"
      ],
      "execution_count": null,
      "outputs": []
    },
    {
      "cell_type": "code",
      "metadata": {
        "id": "YSLuQd9lYCOA"
      },
      "source": [
        "fig = px.scatter(gapminder, x=\"gdpPercap\", y=\"lifeExp\", animation_frame=\"year\", animation_group=\"country\",\n",
        "           size=\"pop\", color=\"continent\", hover_name=\"country\", facet_col=\"continent\",\n",
        "           log_x=True, size_max=45, range_x=[100,100000], range_y=[25,90])\n",
        "fig.show()"
      ],
      "execution_count": null,
      "outputs": []
    },
    {
      "cell_type": "code",
      "metadata": {
        "scrolled": false,
        "id": "5v_t3cehYCOB"
      },
      "source": [
        "px.scatter(gapminder, x=\"gdpPercap\", y=\"lifeExp\",size=\"pop\", size_max=60, color=\"continent\", hover_name=\"country\",\n",
        "           animation_frame=\"year\", animation_group=\"country\", log_x=True, range_x=[100,100000], range_y=[25,90],\n",
        "           labels=dict(pop=\"Population\", gdpPercap=\"GDP per Capita\", lifeExp=\"Life Expectancy\"))"
      ],
      "execution_count": null,
      "outputs": []
    },
    {
      "cell_type": "markdown",
      "metadata": {
        "id": "2NdW7N5LYCOC"
      },
      "source": [
        "### Task 6: Represent Geographic Data as Animated Maps\n"
      ]
    },
    {
      "cell_type": "code",
      "metadata": {
        "id": "lGJB1AJ3YCOC"
      },
      "source": [
        "fig = px.line_geo(gapminder.query(\"year==2007\"), locations=\"iso_alpha\", color=\"continent\", projection=\"orthographic\")\n",
        "fig.show()"
      ],
      "execution_count": null,
      "outputs": []
    },
    {
      "cell_type": "code",
      "metadata": {
        "scrolled": false,
        "id": "QNcd_CWQYCOC"
      },
      "source": [
        "px.choropleth(gapminder, locations=\"iso_alpha\", color=\"lifeExp\", hover_name=\"country\", animation_frame=\"year\",\n",
        "              color_continuous_scale=px.colors.sequential.Plasma, projection=\"natural earth\")"
      ],
      "execution_count": null,
      "outputs": []
    },
    {
      "cell_type": "code",
      "metadata": {
        "scrolled": false,
        "id": "pU1jaSVUYCOD"
      },
      "source": [
        "fig = px.choropleth(gapminder, locations=\"iso_alpha\", color=\"lifeExp\", hover_name=\"country\", animation_frame=\"year\", range_color=[20,80])\n",
        "fig.show()"
      ],
      "execution_count": null,
      "outputs": []
    },
    {
      "cell_type": "markdown",
      "metadata": {
        "id": "uMd8zvigYCOD"
      },
      "source": [
        "### Task 7: Interactive Line Plots and Area Plots "
      ]
    },
    {
      "cell_type": "code",
      "metadata": {
        "id": "9-huxmwIYCOE"
      },
      "source": [
        "fig = px.line(gapminder, x=\"year\", y=\"lifeExp\", color=\"continent\", line_group=\"country\", hover_name=\"country\",\n",
        "        line_shape=\"spline\", render_mode=\"svg\")\n",
        "fig.show()"
      ],
      "execution_count": null,
      "outputs": []
    },
    {
      "cell_type": "code",
      "metadata": {
        "id": "RqA9o_XoYCOF"
      },
      "source": [
        "fig = px.area(gapminder, x=\"year\", y=\"pop\", color=\"continent\", line_group=\"country\")\n",
        "fig.show()"
      ],
      "execution_count": null,
      "outputs": []
    },
    {
      "cell_type": "code",
      "metadata": {
        "id": "FEEeSFu6YCOG"
      },
      "source": [
        ""
      ],
      "execution_count": null,
      "outputs": []
    }
  ]
}